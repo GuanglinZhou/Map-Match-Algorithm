{
 "cells": [
  {
   "cell_type": "code",
   "execution_count": 4,
   "metadata": {
    "collapsed": true
   },
   "outputs": [],
   "source": [
    "#!/usr/bin/env python\n",
    "# -*- coding: utf-8 -*-\n",
    "# @Date    : 2018-04-16 18:24:00\n",
    "# @Author  : guanglinzhou (xdzgl812@163.com)\n",
    "# @Link    : https://github.com/GuanglinZhou\n",
    "# @Version : $Id$\n",
    "\n",
    "# 获取一个表格,列名如下：\n",
    "# 路名，WayID，类型(secondary)，user,version,timestamp\n",
    "\n",
    "import os\n",
    "import csv\n",
    "import xml.etree.cElementTree as ET\n",
    "from collections import defaultdict\n",
    "\n",
    "tree = ET.ElementTree(file='hefei_highways.osm')\n",
    "root = tree.getroot()\n"
   ]
  },
  {
   "cell_type": "code",
   "execution_count": 5,
   "metadata": {},
   "outputs": [
    {
     "data": {
      "text/plain": [
       "{'generator': 'Osmosis 0.46', 'version': '0.6'}"
      ]
     },
     "execution_count": 5,
     "metadata": {},
     "output_type": "execute_result"
    }
   ],
   "source": [
    "root.attrib"
   ]
  },
  {
   "cell_type": "code",
   "execution_count": 17,
   "metadata": {},
   "outputs": [
    {
     "name": "stdout",
     "output_type": "stream",
     "text": [
      "31.7229212\n"
     ]
    }
   ],
   "source": [
    "for elem in tree.iter(tag='node'):\n",
    "    if (elem.attrib['id'] == '251187830'):\n",
    "        print(elem.attrib['lat'])"
   ]
  },
  {
   "cell_type": "code",
   "execution_count": null,
   "metadata": {
    "collapsed": true
   },
   "outputs": [],
   "source": []
  }
 ],
 "metadata": {
  "kernelspec": {
   "display_name": "Python 3",
   "language": "python",
   "name": "python3"
  },
  "language_info": {
   "codemirror_mode": {
    "name": "ipython",
    "version": 3
   },
   "file_extension": ".py",
   "mimetype": "text/x-python",
   "name": "python",
   "nbconvert_exporter": "python",
   "pygments_lexer": "ipython3",
   "version": "3.6.3"
  }
 },
 "nbformat": 4,
 "nbformat_minor": 2
}
