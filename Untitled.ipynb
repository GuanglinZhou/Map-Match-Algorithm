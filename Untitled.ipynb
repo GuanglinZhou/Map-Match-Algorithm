{
 "cells": [
  {
   "cell_type": "code",
   "execution_count": 1,
   "metadata": {
    "collapsed": true
   },
   "outputs": [],
   "source": [
    "#!/usr/bin/env python\n",
    "# -*- coding: utf-8 -*-\n",
    "# @Date    : 2018-04-20 10:39:25\n",
    "# @Author  : guanglinzhou (xdzgl812@163.com)\n",
    "# @Link    : https://github.com/GuanglinZhou\n",
    "# @Version : $Id$\n",
    "\n",
    "'''\n",
    "每个网格中构建训练样本，如果网格中没有路段，则不构建\n",
    "训练样本字段为：纬度，经度，距离某sec的距离,...,该样本所属的路段ID\n",
    "Latitude,Longitude,secID1,...,label\n",
    "'''\n",
    "\n",
    "import pandas as pd\n",
    "import numpy as np\n",
    "from math import radians, cos, sin, asin, sqrt\n",
    "from collections import defaultdict\n",
    "import os\n",
    "import pickle\n",
    "import operator\n",
    "M=397\n",
    "N=290\n",
    "projectDirectory = '/Users/guanglinzhou/Documents/gpsDataProject/'\n"
   ]
  },
  {
   "cell_type": "code",
   "execution_count": 3,
   "metadata": {
    "collapsed": true
   },
   "outputs": [],
   "source": [
    "import itertools\n",
    "from operator import itemgetter\n",
    "\n",
    "\n",
    "raw = [(1, \"one\"),\n",
    "       (2, \"two\"),\n",
    "       (1, \"one\"),\n",
    "       (3, \"three\"),\n",
    "       (2, \"two\")]\n",
    "sorted(raw,)\n",
    "\n"
   ]
  },
  {
   "cell_type": "code",
   "execution_count": 7,
   "metadata": {},
   "outputs": [
    {
     "name": "stdout",
     "output_type": "stream",
     "text": [
      "(1, 'one')\n",
      "(1, 'one')\n",
      "\n",
      "\n",
      "(2, 'two')\n",
      "(2, 'two')\n",
      "\n",
      "\n",
      "(3, 'three')\n",
      "\n",
      "\n"
     ]
    }
   ],
   "source": [
    "for key, grp in itertools.groupby(sorted(raw), key=itemgetter(0)):\n",
    "    for i in grp:\n",
    "        print(i)\n",
    "    print('\\n')"
   ]
  },
  {
   "cell_type": "code",
   "execution_count": 37,
   "metadata": {
    "collapsed": true
   },
   "outputs": [],
   "source": [
    "file=pd.read_csv('/Users/guanglinzhou/Documents/gpsDataProject/processDataFromXue/afterPreprocessTestDataSet.csv')"
   ]
  },
  {
   "cell_type": "code",
   "execution_count": 30,
   "metadata": {},
   "outputs": [
    {
     "data": {
      "text/html": [
       "<div>\n",
       "<style>\n",
       "    .dataframe thead tr:only-child th {\n",
       "        text-align: right;\n",
       "    }\n",
       "\n",
       "    .dataframe thead th {\n",
       "        text-align: left;\n",
       "    }\n",
       "\n",
       "    .dataframe tbody tr th {\n",
       "        vertical-align: top;\n",
       "    }\n",
       "</style>\n",
       "<table border=\"1\" class=\"dataframe\">\n",
       "  <thead>\n",
       "    <tr style=\"text-align: right;\">\n",
       "      <th></th>\n",
       "      <th>REC_CARID</th>\n",
       "      <th>REC_TIME</th>\n",
       "      <th>REC_LONGITUDE</th>\n",
       "      <th>REC_LATITUDE</th>\n",
       "    </tr>\n",
       "  </thead>\n",
       "  <tbody>\n",
       "    <tr>\n",
       "      <th>0</th>\n",
       "      <td>A80002</td>\n",
       "      <td>2018/3/31 0:00:42</td>\n",
       "      <td>117.265948</td>\n",
       "      <td>31.847702</td>\n",
       "    </tr>\n",
       "    <tr>\n",
       "      <th>1</th>\n",
       "      <td>A80002</td>\n",
       "      <td>2018/3/31 0:01:32</td>\n",
       "      <td>117.263862</td>\n",
       "      <td>31.847727</td>\n",
       "    </tr>\n",
       "    <tr>\n",
       "      <th>2</th>\n",
       "      <td>A80002</td>\n",
       "      <td>2018/3/31 0:03:08</td>\n",
       "      <td>117.263718</td>\n",
       "      <td>31.847698</td>\n",
       "    </tr>\n",
       "    <tr>\n",
       "      <th>3</th>\n",
       "      <td>A80002</td>\n",
       "      <td>2018/3/31 0:04:20</td>\n",
       "      <td>117.263718</td>\n",
       "      <td>31.847698</td>\n",
       "    </tr>\n",
       "    <tr>\n",
       "      <th>4</th>\n",
       "      <td>A80002</td>\n",
       "      <td>2018/3/31 0:06:20</td>\n",
       "      <td>117.263718</td>\n",
       "      <td>31.847698</td>\n",
       "    </tr>\n",
       "  </tbody>\n",
       "</table>\n",
       "</div>"
      ],
      "text/plain": [
       "  REC_CARID           REC_TIME  REC_LONGITUDE  REC_LATITUDE\n",
       "0    A80002  2018/3/31 0:00:42     117.265948     31.847702\n",
       "1    A80002  2018/3/31 0:01:32     117.263862     31.847727\n",
       "2    A80002  2018/3/31 0:03:08     117.263718     31.847698\n",
       "3    A80002  2018/3/31 0:04:20     117.263718     31.847698\n",
       "4    A80002  2018/3/31 0:06:20     117.263718     31.847698"
      ]
     },
     "execution_count": 30,
     "metadata": {},
     "output_type": "execute_result"
    }
   ],
   "source": [
    "file.head(5)"
   ]
  },
  {
   "cell_type": "code",
   "execution_count": 20,
   "metadata": {},
   "outputs": [],
   "source": [
    "time=file.iloc[0,1]"
   ]
  },
  {
   "cell_type": "code",
   "execution_count": 21,
   "metadata": {},
   "outputs": [
    {
     "data": {
      "text/plain": [
       "str"
      ]
     },
     "execution_count": 21,
     "metadata": {},
     "output_type": "execute_result"
    }
   ],
   "source": [
    "type(time)"
   ]
  },
  {
   "cell_type": "code",
   "execution_count": 22,
   "metadata": {},
   "outputs": [
    {
     "data": {
      "text/plain": [
       "'2018/3/31 0:00:42'"
      ]
     },
     "execution_count": 22,
     "metadata": {},
     "output_type": "execute_result"
    }
   ],
   "source": [
    "time"
   ]
  },
  {
   "cell_type": "code",
   "execution_count": 23,
   "metadata": {},
   "outputs": [
    {
     "data": {
      "text/plain": [
       "['2018/3/31', '0:00:42']"
      ]
     },
     "execution_count": 23,
     "metadata": {},
     "output_type": "execute_result"
    }
   ],
   "source": [
    "time.split(' ')"
   ]
  },
  {
   "cell_type": "code",
   "execution_count": 24,
   "metadata": {
    "collapsed": true
   },
   "outputs": [],
   "source": [
    "file.iloc[0,1]='0:00:42'"
   ]
  },
  {
   "cell_type": "code",
   "execution_count": 38,
   "metadata": {},
   "outputs": [
    {
     "data": {
      "text/html": [
       "<div>\n",
       "<style>\n",
       "    .dataframe thead tr:only-child th {\n",
       "        text-align: right;\n",
       "    }\n",
       "\n",
       "    .dataframe thead th {\n",
       "        text-align: left;\n",
       "    }\n",
       "\n",
       "    .dataframe tbody tr th {\n",
       "        vertical-align: top;\n",
       "    }\n",
       "</style>\n",
       "<table border=\"1\" class=\"dataframe\">\n",
       "  <thead>\n",
       "    <tr style=\"text-align: right;\">\n",
       "      <th></th>\n",
       "      <th>REC_CARID</th>\n",
       "      <th>REC_TIME</th>\n",
       "      <th>REC_LONGITUDE</th>\n",
       "      <th>REC_LATITUDE</th>\n",
       "    </tr>\n",
       "  </thead>\n",
       "  <tbody>\n",
       "    <tr>\n",
       "      <th>0</th>\n",
       "      <td>A80002</td>\n",
       "      <td>2018/3/31 0:00:42</td>\n",
       "      <td>117.265948</td>\n",
       "      <td>31.847702</td>\n",
       "    </tr>\n",
       "    <tr>\n",
       "      <th>1</th>\n",
       "      <td>A80002</td>\n",
       "      <td>2018/3/31 0:01:32</td>\n",
       "      <td>117.263862</td>\n",
       "      <td>31.847727</td>\n",
       "    </tr>\n",
       "    <tr>\n",
       "      <th>2</th>\n",
       "      <td>A80002</td>\n",
       "      <td>2018/3/31 0:03:08</td>\n",
       "      <td>117.263718</td>\n",
       "      <td>31.847698</td>\n",
       "    </tr>\n",
       "    <tr>\n",
       "      <th>3</th>\n",
       "      <td>A80002</td>\n",
       "      <td>2018/3/31 0:04:20</td>\n",
       "      <td>117.263718</td>\n",
       "      <td>31.847698</td>\n",
       "    </tr>\n",
       "    <tr>\n",
       "      <th>4</th>\n",
       "      <td>A80002</td>\n",
       "      <td>2018/3/31 0:06:20</td>\n",
       "      <td>117.263718</td>\n",
       "      <td>31.847698</td>\n",
       "    </tr>\n",
       "  </tbody>\n",
       "</table>\n",
       "</div>"
      ],
      "text/plain": [
       "  REC_CARID           REC_TIME  REC_LONGITUDE  REC_LATITUDE\n",
       "0    A80002  2018/3/31 0:00:42     117.265948     31.847702\n",
       "1    A80002  2018/3/31 0:01:32     117.263862     31.847727\n",
       "2    A80002  2018/3/31 0:03:08     117.263718     31.847698\n",
       "3    A80002  2018/3/31 0:04:20     117.263718     31.847698\n",
       "4    A80002  2018/3/31 0:06:20     117.263718     31.847698"
      ]
     },
     "execution_count": 38,
     "metadata": {},
     "output_type": "execute_result"
    }
   ],
   "source": [
    "file.head()"
   ]
  },
  {
   "cell_type": "code",
   "execution_count": 26,
   "metadata": {
    "collapsed": true
   },
   "outputs": [],
   "source": [
    "file.iloc[1,1]=file.iloc[1,1].split(' ')[1]"
   ]
  },
  {
   "cell_type": "code",
   "execution_count": null,
   "metadata": {},
   "outputs": [],
   "source": [
    "indexRange=range(file.shape[0])\n",
    "for index in indexRange:\n",
    "    file.iloc[index,1]=file.iloc[index,1].split(' ')[1]"
   ]
  },
  {
   "cell_type": "code",
   "execution_count": null,
   "metadata": {},
   "outputs": [],
   "source": [
    "file.head()"
   ]
  },
  {
   "cell_type": "code",
   "execution_count": null,
   "metadata": {
    "collapsed": true
   },
   "outputs": [],
   "source": [
    "file=pd.to_csv('/Users/guanglinzhou/Documents/gpsDataProject/processDataFromXue/afterPreprocessTestDataSet.csv',index=False)"
   ]
  }
 ],
 "metadata": {
  "kernelspec": {
   "display_name": "Python 3",
   "language": "python",
   "name": "python3"
  },
  "language_info": {
   "codemirror_mode": {
    "name": "ipython",
    "version": 3
   },
   "file_extension": ".py",
   "mimetype": "text/x-python",
   "name": "python",
   "nbconvert_exporter": "python",
   "pygments_lexer": "ipython3",
   "version": "3.6.3"
  }
 },
 "nbformat": 4,
 "nbformat_minor": 2
}
